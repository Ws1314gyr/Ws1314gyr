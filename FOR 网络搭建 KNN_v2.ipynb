{
 "cells": [
  {
   "cell_type": "code",
   "execution_count": 4,
   "id": "cc38b7fb",
   "metadata": {},
   "outputs": [],
   "source": [
    "import pandas as pd\n",
    "from sklearn.model_selection import train_test_split, cross_val_score, StratifiedKFold\n",
    "from sklearn.neighbors import KNeighborsClassifier\n",
    "from sklearn.metrics import roc_auc_score\n",
    "import numpy as np\n",
    "import joblib"
   ]
  },
  {
   "cell_type": "code",
   "execution_count": 11,
   "id": "678f4c12",
   "metadata": {},
   "outputs": [],
   "source": [
    "def gen_result_knn(MPTA, LDFA, mHKA , JLCA, HTLCA):\n",
    "    JLO = MPTA + LDFA\n",
    "    aHKA = MPTA - LDFA\n",
    "    msgs = []\n",
    "    X_test = pd.DataFrame({\n",
    "    \"MPTA\": [MPTA],\n",
    "    \"LDFA\": [LDFA],\n",
    "    \"mHKA\": [mHKA],\n",
    "    \"JLCA\": [JLCA],\n",
    "    \"HTLCA\": [HTLCA],\n",
    "    \"JLO\": [JLO],\n",
    "    \"aHKA\": [aHKA]\n",
    "})\n",
    "    if aHKA < -2 and JLO < 177:\n",
    "        msgs.append(\"According to CPAK classification, the current alignment is TYPE 1 \")\n",
    "    elif aHKA <= 2 and aHKA >= -2 and JLO < 177:\n",
    "        msgs.append(\"According to CPAK classification, the current alignment is TYPE 2 \")\n",
    "    elif aHKA > 2 and JLO < 177:\n",
    "        msgs.append(\"According to CPAK classification, the current alignment is TYPE 3 \")\n",
    "    elif aHKA < -2 and JLO <= 183 and JLO >= 177:\n",
    "        msgs.append(\"According to CPAK classification, the current alignment is TYPE 4 \")\n",
    "    elif aHKA <= 2 and aHKA >= -2 and JLO <= 183 & JLO >= 177:\n",
    "        msgs.append(\"According to CPAK classification, the current alignment is TYPE 5 \")\n",
    "    elif aHKA > 2 and JLO <= 183 and JLO >= 177:\n",
    "        msgs.append(\"According to CPAK classification, the current alignment is TYPE 6 \")\n",
    "    elif aHKA < -2 and JLO > 183:\n",
    "        msgs.append(\"According to CPAK classification, the current alignment is TYPE 7 \")\n",
    "    elif aHKA <= 2 and aHKA >= -2 and JLO > 183:\n",
    "        msgs.append(\"According to CPAK classification, the current alignment is TYPE 8 \")\n",
    "    elif aHKA > 2 and JLO > 183:\n",
    "        msgs.append(\"According to CPAK classification, the current alignment is TYPE 9 \")\n",
    "  \n",
    "        \n",
    "    loaded_knn_model = joblib.load(\"/Users/luchen/Documents/BioStat/Dad/CKAP/knn_model_1010.pkl\")\n",
    "    prediction = loaded_knn_model.predict_proba(X_test)\n",
    "    if prediction[0,0] > prediction[0,1]:\n",
    "         msgs.append(\"UNDER THE PROBABILITY OF \"+str(round(prediction[0,0],2)) + \", THE PATIENT SHOULD NOT BE CORRECTED TO TYPE 1\")\n",
    "    else:\n",
    "         msgs.append(\"UNDER THE PROBABILITY OF \"+str(round(prediction[0,1],2)) + \", THE PATIENT SHOULD BE CORRECTED TO TYPE 1\")\n",
    "    return msgs\n",
    "    \n"
   ]
  },
  {
   "cell_type": "code",
   "execution_count": 15,
   "id": "faf868dc",
   "metadata": {},
   "outputs": [
    {
     "data": {
      "text/plain": [
       "['According to CPAK classification, the current alignment is TYPE 7 ',\n",
       " 'UNDER THE PROBABILITY OF 0.52, THE PATIENT SHOULD NOT BE CORRECTED TO TYPE 1']"
      ]
     },
     "execution_count": 15,
     "metadata": {},
     "output_type": "execute_result"
    }
   ],
   "source": [
    "gen_result_knn(81.0,105.0,18.5,1.0,106.0)"
   ]
  },
  {
   "cell_type": "code",
   "execution_count": 13,
   "id": "52b26fac",
   "metadata": {},
   "outputs": [
    {
     "name": "stdout",
     "output_type": "stream",
     "text": [
      "1.2.1\n"
     ]
    }
   ],
   "source": [
    "import sklearn\n",
    "print(sklearn.__version__)"
   ]
  }
 ],
 "metadata": {
  "kernelspec": {
   "display_name": "Python 3 (ipykernel)",
   "language": "python",
   "name": "python3"
  },
  "language_info": {
   "codemirror_mode": {
    "name": "ipython",
    "version": 3
   },
   "file_extension": ".py",
   "mimetype": "text/x-python",
   "name": "python",
   "nbconvert_exporter": "python",
   "pygments_lexer": "ipython3",
   "version": "3.10.9"
  },
  "toc": {
   "base_numbering": 1,
   "nav_menu": {},
   "number_sections": true,
   "sideBar": true,
   "skip_h1_title": false,
   "title_cell": "Table of Contents",
   "title_sidebar": "Contents",
   "toc_cell": false,
   "toc_position": {},
   "toc_section_display": true,
   "toc_window_display": false
  }
 },
 "nbformat": 4,
 "nbformat_minor": 5
}
